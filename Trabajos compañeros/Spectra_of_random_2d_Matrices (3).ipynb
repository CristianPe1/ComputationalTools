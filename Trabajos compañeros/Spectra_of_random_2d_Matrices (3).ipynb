{
  "nbformat": 4,
  "nbformat_minor": 0,
  "metadata": {
    "colab": {
      "provenance": []
    },
    "kernelspec": {
      "name": "python3",
      "display_name": "Python 3"
    },
    "language_info": {
      "name": "python"
    }
  },
  "cells": [
    {
      "cell_type": "code",
      "execution_count": 134,
      "metadata": {
        "id": "UH354BaG53Vj"
      },
      "outputs": [],
      "source": [
        "import numpy as np\n",
        "import matplotlib.pyplot as plt\n",
        "def tr(A):\n",
        " return np.trace(A)\n",
        "def det(A):\n",
        "  return np.linalg.det(A)\n",
        "N=1000000\n",
        "M=[]\n",
        "K=[]\n",
        "sink=0\n",
        "source=0\n",
        "saddle=0\n",
        "center=0\n",
        "spirsink=0\n",
        "spirsource=0\n",
        "degesink=0\n",
        "degesource=0\n",
        "estable=0\n",
        "inestable=0\n",
        "for i in range(N):\n",
        "  L=np.random.uniform(-1,1,(2,2))\n",
        "  a=tr(L)**2-4*det(L)\n",
        "  if tr(L)**2-a>10**-6:\n",
        "   if a>0 and tr(L)<0:\n",
        "    sink=sink+1\n",
        "   if tr(L)>0 and a>0:\n",
        "    source=source+1\n",
        "  if tr(L)**2-a<0:\n",
        "   saddle=saddle+1\n",
        "  if np.absolute(tr(L))<10**-6 and a<0:\n",
        "   center=center+1\n",
        "  if tr(L)<0 and a<0:\n",
        "   spirsink=spirsink+1\n",
        "  if tr(L)>0 and a<0:\n",
        "   spirsource=spirsource+1\n",
        "  if np.absolute(a)<10**-6 and tr(L)<0:\n",
        "    degesink=degesink+1\n",
        "  if np.absolute(a)<10**-6 and tr(L)>0:\n",
        "    degesource=degesource+1  \n",
        "  if a>0 and np.absolute(4*a*tr(L))-np.absolute(a+tr(L)**2)<10**-6  :\n",
        "   if np.absolute(a*tr(L))>10**-6:\n",
        "    inestable=inestable+1  \n",
        "   if np.absolute(tr(L))<10**-6 and np.absolute(a)<10**-6:\n",
        "    estable=estable+1  \n"
      ]
    },
    {
      "cell_type": "code",
      "source": [
        "\n",
        "y1 = [sink/N,source/N,saddle/N,center/N,spirsink/N,spirsource/N,degesink/N,degesource/N,estable/N,inestable/N] \n",
        "x = ['sink','sour','sad','cen','spsi','spsour','desi','desour','est','inest'] \n",
        "width = 0.5\n",
        "plt.bar(x, y1, width) \n",
        "plt.xlabel(\"tipo\", size = 16,)\n",
        "plt.ylabel(\"proporcón\", size = 16)"
      ],
      "metadata": {
        "colab": {
          "base_uri": "https://localhost:8080/",
          "height": 301
        },
        "id": "8cTPzlScjKOZ",
        "outputId": "1a2e7a9a-223d-428f-b247-27516f00db5c"
      },
      "execution_count": 139,
      "outputs": [
        {
          "output_type": "execute_result",
          "data": {
            "text/plain": [
              "Text(0, 0.5, 'proporcón')"
            ]
          },
          "metadata": {},
          "execution_count": 139
        },
        {
          "output_type": "display_data",
          "data": {
            "text/plain": [
              "<Figure size 432x288 with 1 Axes>"
            ],
            "image/png": "[encoded data removed]"
          },
          "metadata": {
            "needs_background": "light"
          }
        }
      ]
    }
  ]
}