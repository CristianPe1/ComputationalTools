{
  "nbformat": 4,
  "nbformat_minor": 0,
  "metadata": {
    "colab": {
      "provenance": [],
      "collapsed_sections": []
    },
    "kernelspec": {
      "name": "python3",
      "display_name": "Python 3"
    },
    "language_info": {
      "name": "python"
    }
  },
  "cells": [
    {
      "cell_type": "code",
      "execution_count": 1,
      "metadata": {
        "colab": {
          "base_uri": "https://localhost:8080/",
          "height": 425
        },
        "id": "v8t2VEij-xQI",
        "outputId": "f0a1b16b-1670-4c5c-c507-1a16a4e5be71"
      },
      "outputs": [
        {
          "output_type": "display_data",
          "data": {
            "text/plain": [
              "<Figure size 432x288 with 2 Axes>"
            ],
            "image/png": "[encoded data removed]"
          },
          "metadata": {
            "needs_background": "light"
          }
        },
        {
          "output_type": "stream",
          "name": "stdout",
          "text": [
            "[ 2.09489462e-03 -4.49527025e-01  6.29203509e-01 ...  3.15625364e+00\n",
            " -9.63274022e-01  1.65649964e+00]\n",
            "[ 0.41443177 -4.22975649 -0.67656229 ...  2.14302844 -1.30077954\n",
            "  1.96003679]\n",
            "{'Uniform motion': '0.046%', 'Source': '11.221%', 'Degenerated source': '0.0%', 'Spiral source': '13.42%', 'Center': '0.182%', 'Spiral sink': '13.293%', 'Degenerated sink': '0.003%', 'Sink': '11.289%', 'Line of stable fixed points': '25.167%', 'Saddle': '0.177%', 'Line of unstable fixed points': '25.202%'}\n"
          ]
        }
      ],
      "source": [
        "# DAVID HOLGUÍN GÓMEZ\n",
        "%matplotlib inline\n",
        "import time \n",
        "import numpy as np\n",
        "import matplotlib.pyplot as plt\n",
        "from numpy import linalg\n",
        "\n",
        "\n",
        "#np.random.seed(5)\n",
        "def random_matrix_properties(amount):\n",
        "    lst_determinant,lst_trace = np.zeros(amount),np.zeros(amount)\n",
        "    for i in range(amount):\n",
        "        B = [np.random.randint(-2, high=2)*np.random.random_sample() for x in range(4)] # Crea una matriz aleatoria\n",
        "        B = np.reshape(np.array(B),(2,2))\n",
        "        C = [np.random.randint(-2, high=2)*np.random.random_sample() for x in range(4)] # Crea una matriz aleatoria\n",
        "        C= np.reshape(np.array(C),(2,2))\n",
        "        \n",
        "        A = B - C # De da una matriz aleatoria con número negativos\n",
        "        determinant, trace = np.linalg.det(A),np.trace(A)\n",
        "        lst_determinant[i] = determinant#Corregir: Agregar a dónde\n",
        "        lst_trace[i] = trace\n",
        "    return lst_trace,lst_determinant\n",
        "\n",
        "def zones_dictionary(lst_trace,lst_determinant):\n",
        "    zones = {\n",
        "        'Uniform motion':0,\n",
        "        'Source':0,\n",
        "        'Degenerated source':0,\n",
        "        'Spiral source':0,\n",
        "        'Center':0,\n",
        "        'Spiral sink':0,\n",
        "        'Degenerated sink':0,\n",
        "        'Sink':0,\n",
        "        'Line of stable fixed points':0,\n",
        "        'Saddle': 0,\n",
        "        'Line of unstable fixed points':0,\n",
        "        }\n",
        "    \n",
        "    for i in range(len(lst_determinant)):\n",
        "        determinante, traza = lst_determinant[i] , lst_trace[i]\n",
        "        delta = np.power(traza,2) - 4*determinante\n",
        "        #ORIGEN\n",
        "        if np.linalg.norm([traza,determinante]) <  np.power(10.0,-5):\n",
        "            zones['Uniform motion'] += 1\n",
        "        #PRIMER CUADRANTE    \n",
        "        elif delta > 0 and traza > 0 and determinante > 0:\n",
        "            zones['Source'] += 1\n",
        "        elif np.absolute(delta) <= np.power(10.0,-5) and traza > 0 and determinante > 0:\n",
        "            zones['Degenerated source'] += 1\n",
        "        elif delta < 0 and traza > 0 and determinante > 0:\n",
        "            zones['Spiral source'] += 1\n",
        "        elif delta < 0 and np.absolute(traza) < np.power(10.0,-5) and determinante > 0:\n",
        "                zones['Center'] += 1\n",
        "        #SEGUNDO CUADRANTE       \n",
        "        elif delta < 0 and traza < 0 and determinante > 0:\n",
        "            zones['Spiral sink'] += 1\n",
        "        elif np.absolute(delta) < np.power(10.0,-6) and traza < 0 and determinante > 0:\n",
        "            zones['Degenerated sink'] += 1\n",
        "        elif delta > 0 and traza < 0 and determinante > 0:\n",
        "            zones['Sink'] += 1\n",
        "        #TERCER Y CUARTO CUADRANTE \n",
        "        elif delta > 0 and traza < 0 and determinante <= 0:\n",
        "            zones['Line of stable fixed points'] += 1\n",
        "        elif delta > 0 and np.absolute(traza) < np.power(10.0,-5) and determinante <= 0:\n",
        "                zones['Saddle'] += 1\n",
        "        elif delta > 0 and traza > 0 and determinante <= 0:\n",
        "            zones['Line of unstable fixed points'] += 1\n",
        "    \n",
        "    for key,value in zones.items():\n",
        "        zones[key] = str(100*value/len(lst_determinant))+'%'\n",
        "        \n",
        "    return zones\n",
        "\n",
        "#Plot\n",
        "def plot(x,y):    \n",
        "    x1 = np.linspace(min(x),max(x),100)\n",
        "    plt.plot(x1,np.power(x1,2)/4,color= 'white',linestyle = 'dashed' ,label = r'$det(A) = \\frac{Tr(A)^{2}}{4}$')\n",
        "    plt.hist2d(x, y,bins=(70, 70),cmap= plt.cm.nipy_spectral)\n",
        "    plt.colorbar()\n",
        "    plt.ylabel(r'$det(A)$',fontsize = 15)\n",
        "    plt.xlabel(r' $Tr(A)$',fontsize = 15)\n",
        "    plt.title('Distribución del mapa de Poincaré\\n'+f'{CANTIDAD} matrices aleatorias')\n",
        "    #LEGENDS\n",
        "    plt.legend(loc='best',fontsize = 8)\n",
        "    plt.savefig('C:\\\\Users\\\\Usuario\\\\Documents\\\\UN\\\\Herramientas Computacionales\\\\Tareas\\\\T10\\\\Distribucion.pdf')\n",
        "    plt.show()\n",
        "    \n",
        "CANTIDAD = 100000\n",
        "\n",
        "x,y = random_matrix_properties(CANTIDAD)\n",
        "z = zones_dictionary(x,y)\n",
        "\n",
        "plot(x,y)\n",
        "\n",
        "print(f'{x}\\n{y}\\n{z}')\n",
        "    \n",
        "            \n",
        "    \n",
        "    \n",
        "  \n",
        "  \n",
        "    "
      ]
    },
    {
      "cell_type": "code",
      "source": [],
      "metadata": {
        "id": "uodzzDpR_Rsm"
      },
      "execution_count": null,
      "outputs": []
    }
  ]
}